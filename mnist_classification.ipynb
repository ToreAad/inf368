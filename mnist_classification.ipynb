{
 "cells": [
  {
   "cell_type": "markdown",
   "metadata": {},
   "source": [
    "First lets load required modules and seed the random number generators to make results reproducible:"
   ]
  },
  {
   "cell_type": "code",
   "execution_count": 40,
   "metadata": {},
   "outputs": [],
   "source": [
    "import datetime\n",
    "from keras.models import Sequential\n",
    "from keras.layers import Dense, Conv2D, Flatten, Reshape, Dropout\n",
    "from keras.datasets import mnist\n",
    "from keras.utils import to_categorical\n",
    "from keras.regularizers import l2\n",
    "from keras.callbacks import TensorBoard\n",
    "import numpy as np\n",
    "import os\n",
    "import random as rn\n",
    "import matplotlib.pyplot as plt\n",
    "from sklearn.preprocessing import StandardScaler\n",
    "\n",
    "rn.seed(42)\n",
    "np.random.seed(42)"
   ]
  },
  {
   "cell_type": "markdown",
   "metadata": {},
   "source": [
    "Load training data:"
   ]
  },
  {
   "cell_type": "code",
   "execution_count": 41,
   "metadata": {},
   "outputs": [],
   "source": [
    "(train_images, train_labels), (test_images, test_labels) = mnist.load_data()"
   ]
  },
  {
   "cell_type": "code",
   "execution_count": null,
   "metadata": {},
   "outputs": [],
   "source": [
    "# https://www.kaggle.com/bguberfain/elastic-transform-for-data-augmentation"
   ]
  },
  {
   "cell_type": "markdown",
   "metadata": {},
   "source": [
    "Seems ok.\n",
    "\n",
    "Scale and cast data:"
   ]
  },
  {
   "cell_type": "code",
   "execution_count": 42,
   "metadata": {},
   "outputs": [],
   "source": [
    "# Cast:\n",
    "train_images = train_images.astype(np.float32)\n",
    "test_images = test_images.astype(np.float32)\n",
    "\n",
    "# Scale:\n",
    "scaler = StandardScaler(with_mean=True, with_std=True)\n",
    "train_images = scaler.fit_transform(train_images.reshape((60000, 784))).reshape((60000, 28, 28))\n",
    "test_images = scaler.transform(test_images.reshape((10000, 784))).reshape((10000, 28, 28))"
   ]
  },
  {
   "cell_type": "markdown",
   "metadata": {},
   "source": [
    "Get some validation data:"
   ]
  },
  {
   "cell_type": "code",
   "execution_count": 43,
   "metadata": {},
   "outputs": [],
   "source": [
    "from sklearn.model_selection import train_test_split\n",
    "validation_images, test_images, validation_labels, test_labels = train_test_split(test_images, test_labels, test_size=0.5, random_state=42)"
   ]
  },
  {
   "cell_type": "markdown",
   "metadata": {},
   "source": [
    "Checking that training, validation and test dataset is shufled."
   ]
  },
  {
   "cell_type": "code",
   "execution_count": 47,
   "metadata": {},
   "outputs": [
    {
     "name": "stdout",
     "output_type": "stream",
     "text": [
      "[5 0 4 1 9 2 1 3 1 4 3 5 3 6 1 7 2 8 6 9]\n",
      "[8 4 3 1 2 9 0 5 8 7 7 7 5 7 6 1 1 3 2 7]\n",
      "[6 2 3 7 2 2 3 4 7 6 6 9 2 0 9 6 8 0 6 5]\n"
     ]
    }
   ],
   "source": [
    "print(train_labels[0:20])\n",
    "print(validation_labels[0:20])\n",
    "print(test_labels[0:20])"
   ]
  },
  {
   "cell_type": "markdown",
   "metadata": {},
   "source": [
    "Plotting a few of the training images:"
   ]
  },
  {
   "cell_type": "code",
   "execution_count": 45,
   "metadata": {},
   "outputs": [
    {
     "data": {
      "image/png": "[encoded data removed]",
      "text/plain": [
       "<Figure size 432x288 with 1 Axes>"
      ]
     },
     "metadata": {},
     "output_type": "display_data"
    },
    {
     "data": {
      "image/png": "[encoded data removed]",
      "text/plain": [
       "<Figure size 432x288 with 1 Axes>"
      ]
     },
     "metadata": {},
     "output_type": "display_data"
    },
    {
     "data": {
      "image/png": "[encoded data removed]",
      "text/plain": [
       "<Figure size 432x288 with 1 Axes>"
      ]
     },
     "metadata": {},
     "output_type": "display_data"
    }
   ],
   "source": [
    "for i in np.random.choice(len(train_images), 3):\n",
    "    plt.imshow(train_images[i], cmap=\"Greys\", vmin=0, vmax=2)\n",
    "    plt.show()"
   ]
  },
  {
   "cell_type": "markdown",
   "metadata": {},
   "source": [
    "Lets define a helper function that fits, visualizes and stores trained models:"
   ]
  },
  {
   "cell_type": "code",
   "execution_count": 48,
   "metadata": {},
   "outputs": [],
   "source": [
    "def fit_and_save_model(name, model, X_train, y_train, X_validation, y_validation,\n",
    "                       epochs = 5, batch_size=64, validation_split = 1.0/12, eval_batch_size=128):\n",
    "    required_folders = './output/{}/logs/'.format(name)\n",
    "    if not os.path.exists(required_folders):\n",
    "        os.makedirs(required_folders)\n",
    "\n",
    "    # Validation data is not shuffled! This is probably a problem!\n",
    "    tensorboard = TensorBoard('./output/{}/logs/{}'.format(name, datetime.datetime.now().strftime(\"%Y-%m-%d-%H-%M\")))\n",
    "    history = model.fit(X_train, to_categorical(y_train), \n",
    "                        validation_split=validation_split, \n",
    "                        epochs=epochs,\n",
    "                        batch_size=batch_size, \n",
    "                        verbose=1, \n",
    "                        callbacks=[tensorboard])\n",
    "\n",
    "    score = model.evaluate(X_validation, to_categorical(y_validation))\n",
    "    with open(\"./output/{}/{}.score\".format(name, name), 'w+') as f:\n",
    "        f.write(\"Validation loss: {}\\n\".format(score[0]))\n",
    "        f.write(\"Validation accuracy: {}\".format(score[1]))\n",
    "        \n",
    "    model.save('./output/{}/{}.h5'.format(name, name))\n",
    "    with open(\"./output/{}/{}.json\".format(name, name), 'w+') as f:\n",
    "        f.write(model.to_json())\n",
    "    \n",
    "    plt.plot(history.history['loss'], label='Training data loss')\n",
    "    plt.plot(history.history['val_loss'], label='Validation data loss')\n",
    "    plt.legend()\n",
    "    plt.title(\"Model {} loss\".format(name))\n",
    "    plt.savefig('./output/{}/model_{}_loss.png'.format(name,name))\n",
    "    plt.show()\n",
    "\n",
    "    plt.plot(history.history['acc'], label='Training data accuracy')\n",
    "    plt.plot(history.history['val_acc'], label='Validation data accuracy')\n",
    "    plt.legend()\n",
    "    plt.title(\"Model {} accuracy\".format(name))\n",
    "    plt.savefig('./output/{}/model_{}_accuracy.png'.format(name,name))\n",
    "    plt.show()"
   ]
  },
  {
   "cell_type": "markdown",
   "metadata": {},
   "source": [
    "Now create and train a simple sequential model without any regularization:"
   ]
  },
  {
   "cell_type": "code",
   "execution_count": 54,
   "metadata": {},
   "outputs": [
    {
     "name": "stdout",
     "output_type": "stream",
     "text": [
      "Train on 55000 samples, validate on 5000 samples\n",
      "Epoch 1/5\n",
      "55000/55000 [==============================] - 4s 74us/step - loss: 0.9134 - acc: 0.7929 - val_loss: 0.4597 - val_acc: 0.8984\n",
      "Epoch 2/5\n",
      "55000/55000 [==============================] - 4s 70us/step - loss: 0.4638 - acc: 0.8807 - val_loss: 0.3418 - val_acc: 0.9148\n",
      "Epoch 3/5\n",
      "55000/55000 [==============================] - 4s 71us/step - loss: 0.3881 - acc: 0.8942 - val_loss: 0.2988 - val_acc: 0.9194\n",
      "Epoch 4/5\n",
      "55000/55000 [==============================] - 4s 75us/step - loss: 0.3527 - acc: 0.9009 - val_loss: 0.2758 - val_acc: 0.9250\n",
      "Epoch 5/5\n",
      "55000/55000 [==============================] - 4s 71us/step - loss: 0.3317 - acc: 0.9059 - val_loss: 0.2588 - val_acc: 0.9294\n"
     ]
    },
    {
     "data": {
      "image/png": "[encoded data removed]",
      "text/plain": [
       "<Figure size 432x288 with 1 Axes>"
      ]
     },
     "metadata": {},
     "output_type": "display_data"
    },
    {
     "data": {
      "image/png": "[encoded data removed]",
      "text/plain": [
       "<Figure size 432x288 with 1 Axes>"
      ]
     },
     "metadata": {},
     "output_type": "display_data"
    },
    {
     "name": "stdout",
     "output_type": "stream",
     "text": [
      "5000/5000 [==============================] - 0s 60us/step\n"
     ]
    }
   ],
   "source": [
    "simple_sequential = Sequential()\n",
    "simple_sequential.add(Flatten(input_shape=(28,28)))\n",
    "simple_sequential.add(Dense(1000, activation='sigmoid'))\n",
    "simple_sequential.add(Dense(10, activation='softmax'))\n",
    "simple_sequential.compile(optimizer=\"SGD\", loss=\"categorical_crossentropy\", metrics=[\"accuracy\"])\n",
    "fit_and_save_model(\"mnist_simple_sequential\", simple_sequential, \n",
    "                   train_images, train_labels, validation_images, validation_labels)"
   ]
  },
  {
   "cell_type": "markdown",
   "metadata": {},
   "source": [
    "Now lets try the same model with regularisation:"
   ]
  },
  {
   "cell_type": "code",
   "execution_count": null,
   "metadata": {},
   "outputs": [],
   "source": [
    "simple_sequential = Sequential()\n",
    "simple_sequential.add(Flatten(input_shape=(28,28)))\n",
    "simple_sequential.add(Dense(1000, activation='sigmoid', kernel_regularizer=l2(0.01)))\n",
    "simple_sequential.add(Dense(10, activation='softmax'))\n",
    "simple_sequential.compile(optimizer=\"SGD\", loss=\"categorical_crossentropy\", metrics=[\"accuracy\"])\n",
    "fit_and_save_model(\"mnist_simple_sequential_L2\", simple_sequential, \n",
    "                   train_images, train_labels, validation_images, validation_labels)"
   ]
  },
  {
   "cell_type": "markdown",
   "metadata": {},
   "source": [
    "Lets try a simple convolutional neural network:"
   ]
  },
  {
   "cell_type": "code",
   "execution_count": null,
   "metadata": {},
   "outputs": [],
   "source": [
    "simple_convolutional = Sequential()\n",
    "simple_convolutional.add(Reshape((28,28,1), input_shape=(784,)))\n",
    "simple_convolutional.add(Conv2D(50, \n",
    "                 kernel_size=3, \n",
    "                 activation=\"relu\"))\n",
    "#simple_convolutional.add(Dropout(rate=0.1))\n",
    "simple_convolutional.add(Conv2D(100, \n",
    "                  kernel_size=3, \n",
    "                  activation='relu'))\n",
    "simple_convolutional.add(Dense(10, activation='softmax'))\n",
    "simple_convolutional.compile(optimizer=\"adam\", loss=\"categorical_crossentropy\", metrics=[\"accuracy\"])\n",
    "fit_and_save_model(\"mnist_convolutional\", simple_convolutional,\n",
    "                   train_images, train_labels, validation_images, validation_labels,\n",
    "                   batch_size=int(len(X_train)*0.001), epochs=3)"
   ]
  },
  {
   "cell_type": "code",
   "execution_count": null,
   "metadata": {},
   "outputs": [],
   "source": [
    "# Tasks: Experiment with different hyperparameter settings (e.g. learning rate, early stopping, batch sizes, etc)\n",
    "# and observe their effects on training time, overfitting, and final accuracy.\n",
    "# See if L2 regularisation has effect on network using relu activation function.\n",
    "# Compare contrast with relu + dropout."
   ]
  }
 ],
 "metadata": {
  "kernelspec": {
   "display_name": "Python 3",
   "language": "python",
   "name": "python3"
  },
  "language_info": {
   "codemirror_mode": {
    "name": "ipython",
    "version": 3
   },
   "file_extension": ".py",
   "mimetype": "text/x-python",
   "name": "python",
   "nbconvert_exporter": "python",
   "pygments_lexer": "ipython3",
   "version": "3.6.5"
  }
 },
 "nbformat": 4,
 "nbformat_minor": 2
}
